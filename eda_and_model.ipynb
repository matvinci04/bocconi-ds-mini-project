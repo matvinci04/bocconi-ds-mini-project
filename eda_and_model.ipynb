{
 "cells": [
  {
   "cell_type": "markdown",
   "id": "36e5e30e",
   "metadata": {},
   "source": [
    "# EDA"
   ]
  },
  {
   "cell_type": "code",
   "execution_count": null,
   "id": "929f2d9a",
   "metadata": {},
   "outputs": [],
   "source": [
    "import pandas as pd, matplotlib.pyplot as plt; df=pd.read_csv('../data/dataset.csv'); df.head()"
   ]
  },
  {
   "cell_type": "code",
   "execution_count": null,
   "id": "c25cc98b",
   "metadata": {},
   "outputs": [],
   "source": [
    "df.describe()"
   ]
  }
 ],
 "metadata": {},
 "nbformat": 4,
 "nbformat_minor": 5
}
